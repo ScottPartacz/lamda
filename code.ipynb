{
 "cells": [
  {
   "cell_type": "code",
   "execution_count": null,
   "metadata": {},
   "outputs": [],
   "source": [
    "import csv\n",
    "from functools import reduce\n",
    "import json\n",
    "\n",
    "data = []\n",
    "neighborhoods = []\n",
    "\n",
    "with open (\"911_Calls_for_Service_(Last_30_Days).csv\") as file:\n",
    "\n",
    "    data = [{x: y for x,y in row.items()} for row in csv.DictReader(file)]\n",
    "        \n",
    "\n",
    "data = list(filter(lambda x: x[\"zip_code\"] != \"0\" and x[\"neighborhood\"] != \"\" and x[\"dispatchtime\"] != \"\" and x[\"totaltime\"] != \"\" and x[\"totalresponsetime\"] != \"\", data))\n",
    "\n",
    "\n",
    "print(\"avg totalresponsetime: \",reduce(lambda x,y: x + y, list(map(lambda x: float(x[\"totalresponsetime\"]),data)))/len(data))\n",
    "\n",
    "print(\"avg dispatchtime: \",reduce(lambda x,y: x + y, list(map(lambda x: float(x[\"dispatchtime\"]),data)))/len(data))\n",
    "\n",
    "print(\"avg totaltime: \",reduce(lambda x,y: x + y, list(map(lambda x: float(x[\"totaltime\"]),data)))/len(data))\n",
    "\n",
    "for x in data:\n",
    "   if x[\"neighborhood\"] not in neighborhoods:\n",
    "       neighborhoods.append(x[\"neighborhood\"])\n",
    "\n",
    "neighborhoods_list_dict = []\n",
    "\n",
    "for z in neighborhoods:\n",
    "\n",
    "    length = len(list(filter(lambda x: x[\"neighborhood\"] == z,data)))\n",
    "    mini_list = list(filter(lambda x: x[\"neighborhood\"] == z,data))\n",
    "\n",
    "    print(\"\\n\" + z + \"\\n\")\n",
    "\n",
    "    totalrestime_avg = reduce(lambda x,y: x + y, list(map(lambda x: float(x[\"totalresponsetime\"]),mini_list)))/length\n",
    "    print(\"avg totalresponsetime: \",totalrestime_avg)\n",
    "\n",
    "    distime_avg = reduce(lambda x,y: x + y, list(map(lambda x: float(x[\"dispatchtime\"]),mini_list)))/length\n",
    "    print(\"avg dispatchtime: \",distime_avg)\n",
    "\n",
    "    totaltime_avg = reduce(lambda x,y: x + y, list(map(lambda x: float(x[\"totaltime\"]),mini_list)))/length\n",
    "    print(\"avg totaltime: \",totaltime_avg)\n",
    "\n",
    "    temp_dict = {\"neighborhood\": z,\"avg_totalresponsetime\":totalrestime_avg,\"avg_dispatchtime\":distime_avg,\"totaltime_avg\":totaltime_avg}\n",
    "    neighborhoods_list_dict.append(temp_dict)\n",
    "\n",
    "#print(neighborhoods_list_dict)\n",
    "file = open(\"data.json\",\"w\")\n",
    "file = json.dump(neighborhoods_list_dict,file)\n",
    "\n",
    "\n",
    "\n",
    "\n"
   ]
  }
 ],
 "metadata": {
  "interpreter": {
   "hash": "aab2652dd422b8952e87837d88345d2dc429e222c6ab5d96b6e49515aa907270"
  },
  "kernelspec": {
   "display_name": "Python 3.9.7 64-bit ('base': conda)",
   "language": "python",
   "name": "python3"
  },
  "language_info": {
   "codemirror_mode": {
    "name": "ipython",
    "version": 3
   },
   "file_extension": ".py",
   "mimetype": "text/x-python",
   "name": "python",
   "nbconvert_exporter": "python",
   "pygments_lexer": "ipython3",
   "version": "3.9.7"
  },
  "orig_nbformat": 4
 },
 "nbformat": 4,
 "nbformat_minor": 2
}
